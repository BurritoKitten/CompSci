{
 "cells": [
  {
   "cell_type": "code",
   "execution_count": 102,
   "metadata": {},
   "outputs": [],
   "source": [
    "def sorted (listin:list):\n",
    "    \"\"\"Sorts the values in a list.\"\"\"\n",
    "    for i in range (len (listin)): (listin.append (listin.pop (lowof (listin, len(listin)-i))))\n",
    "    return listin\n",
    "\n",
    "def lowof (listin:list, i:int):\n",
    "    \"\"\"Returns the position of the lowest value in the list up to the defined point, 'i'.\"\"\"\n",
    "    currentlowest, numout = None, None\n",
    "    for n in range(i):\n",
    "        if (((currentlowest == None) or ((str(listin[n])) < currentlowest))): currentlowest, numout = str(listin[n]), n\n",
    "    return numout"
   ]
  },
  {
   "cell_type": "code",
   "execution_count": 136,
   "metadata": {},
   "outputs": [
    {
     "name": "stdout",
     "output_type": "stream",
     "text": [
      "[2, 'world!', 'Hello', 9, 4, 5, 7, 6, 0, 3, 1, 8]\n",
      "[0, 1, 2, 3, 4, 5, 6, 7, 8, 9, 'Hello', 'world!']\n"
     ]
    }
   ],
   "source": [
    "#producing a random dataset\n",
    "import random\n",
    "\n",
    "listf, listc = [0, 1, 2, 3, 4, 5, 6, 7, 8, 9, 'Hello', 'world!'], []\n",
    "for i in range (len (listf)): (listc.append (listf.pop (random.randint (0, (len (listf)-1)))))\n",
    "\n",
    "#printing dataset and sorting dataset\n",
    "print (f\"{listc}\\n{sorted (listc)}\")\n",
    "del listc, listf"
   ]
  },
  {
   "cell_type": "code",
   "execution_count": null,
   "metadata": {},
   "outputs": [],
   "source": []
  }
 ],
 "metadata": {
  "kernelspec": {
   "display_name": "Python 3",
   "language": "python",
   "name": "python3"
  },
  "language_info": {
   "codemirror_mode": {
    "name": "ipython",
    "version": 3
   },
   "file_extension": ".py",
   "mimetype": "text/x-python",
   "name": "python",
   "nbconvert_exporter": "python",
   "pygments_lexer": "ipython3",
   "version": "3.11.4"
  },
  "orig_nbformat": 4
 },
 "nbformat": 4,
 "nbformat_minor": 2
}
